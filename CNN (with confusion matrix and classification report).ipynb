{
 "cells": [
  {
   "cell_type": "code",
   "execution_count": 1,
   "id": "2f02c124",
   "metadata": {},
   "outputs": [],
   "source": [
    "import os\n",
    "\n",
    "import torch\n",
    "from torch import nn\n",
    "from torch.utils.data import Dataset\n",
    "import pandas as pd\n",
    "import torchaudio\n",
    "import matplotlib.pyplot as plt\n",
    "from torch.utils.data import DataLoader\n",
    "from torchsummary import summary\n",
    "import numpy as np"
   ]
  },
  {
   "cell_type": "code",
   "execution_count": 2,
   "id": "8ac6ff58",
   "metadata": {},
   "outputs": [],
   "source": [
    "from sklearn.metrics import confusion_matrix\n",
    "from sklearn.metrics import classification_report"
   ]
  },
  {
   "cell_type": "code",
   "execution_count": 3,
   "id": "0134971c",
   "metadata": {},
   "outputs": [
    {
     "name": "stderr",
     "output_type": "stream",
     "text": [
      "/tmp/ipykernel_97874/1654691888.py:7: FutureWarning: Downcasting behavior in `replace` is deprecated and will be removed in a future version. To retain the old behavior, explicitly call `result.infer_objects(copy=False)`. To opt-in to the future behavior, set `pd.set_option('future.no_silent_downcasting', True)`\n",
      "  df['category_num'] = df['category'].replace(dict(zip(categories, num_map)))\n"
     ]
    },
    {
     "data": {
      "text/html": [
       "<div>\n",
       "<style scoped>\n",
       "    .dataframe tbody tr th:only-of-type {\n",
       "        vertical-align: middle;\n",
       "    }\n",
       "\n",
       "    .dataframe tbody tr th {\n",
       "        vertical-align: top;\n",
       "    }\n",
       "\n",
       "    .dataframe thead th {\n",
       "        text-align: right;\n",
       "    }\n",
       "</style>\n",
       "<table border=\"1\" class=\"dataframe\">\n",
       "  <thead>\n",
       "    <tr style=\"text-align: right;\">\n",
       "      <th></th>\n",
       "      <th>filename</th>\n",
       "      <th>category</th>\n",
       "      <th>category_num</th>\n",
       "    </tr>\n",
       "  </thead>\n",
       "  <tbody>\n",
       "    <tr>\n",
       "      <th>0</th>\n",
       "      <td>1054_IEO_DIS_LO.wav</td>\n",
       "      <td>DIS</td>\n",
       "      <td>1</td>\n",
       "    </tr>\n",
       "    <tr>\n",
       "      <th>1</th>\n",
       "      <td>1001_TSI_ANG_XX.wav</td>\n",
       "      <td>ANG</td>\n",
       "      <td>0</td>\n",
       "    </tr>\n",
       "    <tr>\n",
       "      <th>2</th>\n",
       "      <td>1019_IOM_DIS_XX.wav</td>\n",
       "      <td>DIS</td>\n",
       "      <td>1</td>\n",
       "    </tr>\n",
       "    <tr>\n",
       "      <th>3</th>\n",
       "      <td>1068_WSI_DIS_XX.wav</td>\n",
       "      <td>DIS</td>\n",
       "      <td>1</td>\n",
       "    </tr>\n",
       "    <tr>\n",
       "      <th>4</th>\n",
       "      <td>1025_ITS_DIS_XX.wav</td>\n",
       "      <td>DIS</td>\n",
       "      <td>1</td>\n",
       "    </tr>\n",
       "  </tbody>\n",
       "</table>\n",
       "</div>"
      ],
      "text/plain": [
       "              filename category  category_num\n",
       "0  1054_IEO_DIS_LO.wav      DIS             1\n",
       "1  1001_TSI_ANG_XX.wav      ANG             0\n",
       "2  1019_IOM_DIS_XX.wav      DIS             1\n",
       "3  1068_WSI_DIS_XX.wav      DIS             1\n",
       "4  1025_ITS_DIS_XX.wav      DIS             1"
      ]
     },
     "execution_count": 3,
     "metadata": {},
     "output_type": "execute_result"
    }
   ],
   "source": [
    "df = pd.DataFrame()\n",
    "df['filename'] = pd.Series(os.listdir('../data/Crema'))\n",
    "df['category'] = df['filename'].str.extract(r'\\d+_[A-Z]{3}_([A-Z]{3})_[A-Z]+.wav')\n",
    "df = df.dropna()\n",
    "categories = sorted(df.category.unique())\n",
    "num_map = range(len(categories))\n",
    "df['category_num'] = df['category'].replace(dict(zip(categories, num_map)))\n",
    "\n",
    "df.to_csv('../data/recording_paths.csv', index=False)\n",
    "\n",
    "recordings = pd.read_csv('../data/recording_paths.csv')\n",
    "recordings.head()"
   ]
  },
  {
   "cell_type": "code",
   "execution_count": 4,
   "id": "944c9d49",
   "metadata": {},
   "outputs": [
    {
     "data": {
      "text/plain": [
       "['ANG', 'DIS', 'FEA', 'HAP', 'NEU', 'SAD']"
      ]
     },
     "execution_count": 4,
     "metadata": {},
     "output_type": "execute_result"
    }
   ],
   "source": [
    "categories"
   ]
  },
  {
   "cell_type": "code",
   "execution_count": 5,
   "id": "3d2d6933",
   "metadata": {},
   "outputs": [
    {
     "data": {
      "text/plain": [
       "'1054_IEO_DIS_LO.wav'"
      ]
     },
     "execution_count": 5,
     "metadata": {},
     "output_type": "execute_result"
    }
   ],
   "source": [
    "recordings.iloc[0].filename"
   ]
  },
  {
   "cell_type": "code",
   "execution_count": 6,
   "id": "f8608f47",
   "metadata": {},
   "outputs": [],
   "source": [
    "class EmotionDataset(Dataset):\n",
    "    def __init__(self, data_path, data_dir, final_sample_rate, num_samples_limit, transformation, device):\n",
    "        \n",
    "        self.data_path = data_path\n",
    "        \n",
    "        self.data_dir = data_dir\n",
    "        if self.data_dir[-1] != '/':\n",
    "            self.data_dir += '/'\n",
    "        \n",
    "        self.final_sample_rate = final_sample_rate\n",
    "        self.num_samples_limit = num_samples_limit\n",
    "        self.device = device\n",
    "        self.transformation = transformation.to(self.device)\n",
    "        self.df = pd.read_csv(data_path)\n",
    "        \n",
    "    def __len__(self):\n",
    "        return df.shape[0]\n",
    "    \n",
    "    def __getitem__(self, index):\n",
    "        audio_path = self.get_audio_path(index)\n",
    "        label = self.get_label(index)\n",
    "        signal, sr = torchaudio.load(audio_path)\n",
    "        \n",
    "        signal = signal.to(self.device)\n",
    "        signal = self.to_mono_if_necessary(signal)\n",
    "        signal = self.resample_if_necessary(signal, sr)\n",
    "        signal = self.cut_down_if_necessary(signal)\n",
    "        signal = self.right_pad_if_necessary(signal)\n",
    "        signal = self.transformation(signal)\n",
    "        \n",
    "        return signal, label\n",
    "    \n",
    "    def resample_if_necessary(self, signal, original_sr):\n",
    "        if original_sr != self.final_sample_rate:\n",
    "            resampler = torchaudio.transforms.Resample(original_sr, self.final_sample_rate)\n",
    "            signal = resampler(signal)\n",
    "        \n",
    "        return signal\n",
    "    \n",
    "    def to_mono_if_necessary(self, signal):\n",
    "        if signal.shape[0] > 1:\n",
    "            signal = torch.mean(signal, dim=0, keepdim=True)\n",
    "        return signal\n",
    "    \n",
    "    def cut_down_if_necessary(self, signal):\n",
    "        return signal[:, :self.num_samples_limit]\n",
    "    \n",
    "    def right_pad_if_necessary(self, signal):\n",
    "        if signal.shape[1] < self.num_samples_limit:\n",
    "            num_missing_samples = self.num_samples_limit - signal.shape[1]\n",
    "            last_dim_padding = (0, num_missing_samples)\n",
    "            signal = torch.nn.functional.pad(signal, last_dim_padding)\n",
    "        return signal\n",
    "        \n",
    "    def get_audio_path(self, index):\n",
    "        return self.data_dir + self.df.iloc[index].filename\n",
    "    \n",
    "    def get_label(self, index):\n",
    "        return self.df.iloc[index].category_num\n",
    "    \n",
    "    def plot_spectrogram(self, index, log=False):\n",
    "        spec = self.__getitem__(index)[0]\n",
    "        spec = spec.cpu().numpy().reshape(spec.shape[1], -1)\n",
    "        frame_rate = self.final_sample_rate / self.transformation.hop_length\n",
    "        seconds = np.arange(spec.shape[1]) / frame_rate\n",
    "        \n",
    "        if log:\n",
    "            spec[spec == 0] = 0.000000001\n",
    "            spec = np.log(spec)\n",
    "        \n",
    "        plt.figure(figsize=(10, 6))\n",
    "        plt.imshow(spec, cmap='inferno', origin='lower', aspect='auto')\n",
    "        plt.xlabel('Time (s)')\n",
    "        plt.ylabel('Mel')\n",
    "        plt.colorbar(label='Intensity (dB)')\n",
    "        plt.xticks(np.linspace(0, spec.shape[1], 12)[:-1], np.linspace(0, seconds[-1], 12).round(2)[:-1])\n",
    "        plt.show()"
   ]
  },
  {
   "cell_type": "code",
   "execution_count": 7,
   "id": "7797b05b",
   "metadata": {},
   "outputs": [],
   "source": [
    "RECORDING_DF_PATH = os.path.join('..', 'data', 'recording_paths.csv')\n",
    "DATA_DIR = os.path.join('..', 'data', 'Crema')\n",
    "FINAL_SR = 16000\n",
    "NUM_SAMPLES_LIMIT = 60000\n",
    "\n",
    "mel_spectrogram = torchaudio.transforms.MelSpectrogram(\n",
    "        sample_rate=FINAL_SR,\n",
    "        n_fft=1024,\n",
    "        hop_length=512,\n",
    "        n_mels=64\n",
    "    )\n",
    "\n",
    "if torch.cuda.is_available():\n",
    "    device = \"cuda\"\n",
    "else:\n",
    "    device = \"cpu\"\n",
    "\n",
    "\n",
    "emd = EmotionDataset(RECORDING_DF_PATH, DATA_DIR, FINAL_SR, NUM_SAMPLES_LIMIT, mel_spectrogram, device)"
   ]
  },
  {
   "cell_type": "code",
   "execution_count": 8,
   "id": "1684b219",
   "metadata": {},
   "outputs": [
    {
     "data": {
      "image/png": "[encoded data removed]",
      "text/plain": [
       "<Figure size 720x432 with 2 Axes>"
      ]
     },
     "metadata": {
      "needs_background": "light"
     },
     "output_type": "display_data"
    }
   ],
   "source": [
    "emd.plot_spectrogram(300, log=True)"
   ]
  },
  {
   "cell_type": "code",
   "execution_count": 9,
   "id": "931104ad",
   "metadata": {},
   "outputs": [
    {
     "data": {
      "image/png": "[encoded data removed]",
      "text/plain": [
       "<Figure size 720x432 with 2 Axes>"
      ]
     },
     "metadata": {
      "needs_background": "light"
     },
     "output_type": "display_data"
    }
   ],
   "source": [
    "emd.plot_spectrogram(300, log=False)"
   ]
  },
  {
   "cell_type": "code",
   "execution_count": 10,
   "id": "243c8aeb",
   "metadata": {},
   "outputs": [],
   "source": [
    "class CNNNetwork(nn.Module):\n",
    "    def __init__(self, num_layers):\n",
    "        super().__init__()\n",
    "        \n",
    "        self.num_layers = num_layers\n",
    "        self.layers = nn.ModuleList()\n",
    "        \n",
    "        in_kernels = 1\n",
    "        out_kernels = 16\n",
    "        for i in range(self.num_layers):\n",
    "            conv = nn.Sequential(\n",
    "                nn.Conv2d(in_channels=in_kernels, out_channels=out_kernels, kernel_size=3, stride=1, padding=2),\n",
    "                nn.ReLU(),\n",
    "                nn.MaxPool2d(kernel_size=2)\n",
    "            )\n",
    "            self.layers.append(conv)\n",
    "            \n",
    "            in_kernels = out_kernels\n",
    "            out_kernels *= 2\n",
    "        \n",
    "        self.flatten = nn.Flatten()\n",
    "        self.linear = nn.Linear(5760, 10)\n",
    "        self.softmax = nn.Softmax(dim=1)\n",
    "    \n",
    "    def forward(self, input_data):\n",
    "        out = self.layers[0](input_data)\n",
    "        \n",
    "        for layer in self.layers[1:]:\n",
    "            out = layer(out)\n",
    "        \n",
    "        out = self.flatten(out)\n",
    "        out = self.linear(out)\n",
    "        predictions = self.softmax(out)\n",
    "        \n",
    "        return predictions"
   ]
  },
  {
   "cell_type": "code",
   "execution_count": 11,
   "id": "383700c5",
   "metadata": {},
   "outputs": [],
   "source": [
    "BATCH_SIZE = 128\n",
    "EPOCHS = 10\n",
    "LEARNING_RATE = 0.001\n",
    "\n",
    "def create_data_loader(train_data, batch_size):\n",
    "    data_loader = DataLoader(train_data, batch_size = batch_size)\n",
    "    return data_loader\n",
    "\n",
    "def train_single_epoch(model, data_loader, loss, optimizer, device):\n",
    "    for inp, target in data_loader:\n",
    "        inp, target = inp.to(device), target.to(device)\n",
    "        \n",
    "        pred = model(inp)\n",
    "        loss = loss_fn(pred, target)\n",
    "\n",
    "        optimiser.zero_grad()\n",
    "        loss.backward()\n",
    "        optimizer.step()\n",
    "        \n",
    "    print(f'Loss = {loss.item()}')\n",
    "\n",
    "def train(model, data_loader, loss, optimizer, device, num_epochs):\n",
    "    print('Started training\\n')\n",
    "    for i in range(1, num_epochs+1):\n",
    "        print(f'Epoch {i} / {num_epochs} started')\n",
    "        train_single_epoch(model, data_loader, loss, optimizer, device)\n",
    "        print(f'Epoch {i} / {num_epochs} finished')\n",
    "        print()"
   ]
  },
  {
   "cell_type": "code",
   "execution_count": 12,
   "id": "66e04b07",
   "metadata": {},
   "outputs": [
    {
     "name": "stdout",
     "output_type": "stream",
     "text": [
      "----------------------------------------------------------------\n",
      "        Layer (type)               Output Shape         Param #\n",
      "================================================================\n",
      "            Conv2d-1          [-1, 16, 66, 120]             160\n",
      "              ReLU-2          [-1, 16, 66, 120]               0\n",
      "         MaxPool2d-3           [-1, 16, 33, 60]               0\n",
      "            Conv2d-4           [-1, 32, 35, 62]           4,640\n",
      "              ReLU-5           [-1, 32, 35, 62]               0\n",
      "         MaxPool2d-6           [-1, 32, 17, 31]               0\n",
      "            Conv2d-7           [-1, 64, 19, 33]          18,496\n",
      "              ReLU-8           [-1, 64, 19, 33]               0\n",
      "         MaxPool2d-9            [-1, 64, 9, 16]               0\n",
      "           Conv2d-10          [-1, 128, 11, 18]          73,856\n",
      "             ReLU-11          [-1, 128, 11, 18]               0\n",
      "        MaxPool2d-12            [-1, 128, 5, 9]               0\n",
      "          Flatten-13                 [-1, 5760]               0\n",
      "           Linear-14                   [-1, 10]          57,610\n",
      "          Softmax-15                   [-1, 10]               0\n",
      "================================================================\n",
      "Total params: 154,762\n",
      "Trainable params: 154,762\n",
      "Non-trainable params: 0\n",
      "----------------------------------------------------------------\n",
      "Input size (MB): 0.03\n",
      "Forward/backward pass size (MB): 4.52\n",
      "Params size (MB): 0.59\n",
      "Estimated Total Size (MB): 5.14\n",
      "----------------------------------------------------------------\n",
      "None\n",
      "\n",
      "Started training\n",
      "\n",
      "Epoch 1 / 10 started\n",
      "Loss = 2.290316343307495\n",
      "Epoch 1 / 10 finished\n",
      "\n",
      "Epoch 2 / 10 started\n",
      "Loss = 2.236419916152954\n",
      "Epoch 2 / 10 finished\n",
      "\n",
      "Epoch 3 / 10 started\n",
      "Loss = 2.29067325592041\n",
      "Epoch 3 / 10 finished\n",
      "\n",
      "Epoch 4 / 10 started\n",
      "Loss = 2.2915825843811035\n",
      "Epoch 4 / 10 finished\n",
      "\n",
      "Epoch 5 / 10 started\n",
      "Loss = 2.238556146621704\n",
      "Epoch 5 / 10 finished\n",
      "\n",
      "Epoch 6 / 10 started\n",
      "Loss = 2.238844871520996\n",
      "Epoch 6 / 10 finished\n",
      "\n",
      "Epoch 7 / 10 started\n",
      "Loss = 2.2389345169067383\n",
      "Epoch 7 / 10 finished\n",
      "\n",
      "Epoch 8 / 10 started\n",
      "Loss = 2.350039482116699\n",
      "Epoch 8 / 10 finished\n",
      "\n",
      "Epoch 9 / 10 started\n",
      "Loss = 2.350039482116699\n",
      "Epoch 9 / 10 finished\n",
      "\n",
      "Epoch 10 / 10 started\n",
      "Loss = 2.349066972732544\n",
      "Epoch 10 / 10 finished\n",
      "\n",
      "Trained cnn saved at cnn.pth\n"
     ]
    }
   ],
   "source": [
    "train_dataloader = create_data_loader(emd, BATCH_SIZE)\n",
    "\n",
    "cnn = CNNNetwork(num_layers=4).to(device)\n",
    "print(summary(cnn, (1, 64, 118)))\n",
    "print()\n",
    "\n",
    "loss_fn = nn.CrossEntropyLoss()\n",
    "optimiser = torch.optim.Adam(cnn.parameters(),\n",
    "                             lr=LEARNING_RATE)\n",
    "\n",
    "train(cnn.cuda(), train_dataloader, loss_fn, optimiser, device, EPOCHS)\n",
    "\n",
    "torch.save(cnn.state_dict(), \"cnn.pth\")\n",
    "print(\"Trained cnn saved at cnn.pth\")"
   ]
  },
  {
   "cell_type": "code",
   "execution_count": 13,
   "id": "08ad92cb",
   "metadata": {},
   "outputs": [],
   "source": [
    "def predict(model, inp, target, class_mapping):\n",
    "    model.eval()\n",
    "    \n",
    "    with torch.no_grad():\n",
    "        prediction_probs = model(inp)\n",
    "        predicted_index = prediction_probs[0].argmax()\n",
    "        prediction = class_mapping[predicted_index]\n",
    "        expected = class_mapping[target]\n",
    "    \n",
    "    return prediction, expected"
   ]
  },
  {
   "cell_type": "code",
   "execution_count": 14,
   "id": "c0917359",
   "metadata": {},
   "outputs": [
    {
     "name": "stdout",
     "output_type": "stream",
     "text": [
      "Predicted: 'FEA', expected: 'ANG'\n"
     ]
    }
   ],
   "source": [
    "class_mapping = categories\n",
    "state_dict = torch.load(\"cnn.pth\")\n",
    "cnn.load_state_dict(state_dict)\n",
    "\n",
    "idx = 1\n",
    "\n",
    "inp, target = emd[idx][0], emd[idx][1]\n",
    "inp.unsqueeze_(0)\n",
    "\n",
    "predicted, expected = predict(cnn, inp, target,class_mapping)\n",
    "print(f\"Predicted: '{predicted}', expected: '{expected}'\")"
   ]
  },
  {
   "cell_type": "code",
   "execution_count": 15,
   "id": "8e501e51",
   "metadata": {},
   "outputs": [
    {
     "name": "stdout",
     "output_type": "stream",
     "text": [
      "0 / 7442 Done\n",
      "1000 / 7442 Done\n",
      "2000 / 7442 Done\n",
      "3000 / 7442 Done\n",
      "4000 / 7442 Done\n",
      "5000 / 7442 Done\n",
      "6000 / 7442 Done\n",
      "7000 / 7442 Done\n"
     ]
    }
   ],
   "source": [
    "train_df = pd.read_csv('../data/recording_paths.csv')\n",
    "expected = train_df.category\n",
    "\n",
    "predictions = []\n",
    "for i in range(len(emd)):\n",
    "    inp, target = emd[i][0], emd[i][1]\n",
    "    inp.unsqueeze_(0)\n",
    "    predictions.append(predict(cnn, inp, target, class_mapping)[0])\n",
    "    \n",
    "    if i % 1000 == 0:\n",
    "        print(f'{i} / {len(emd)} Done')"
   ]
  },
  {
   "cell_type": "code",
   "execution_count": 16,
   "id": "72ad7b23",
   "metadata": {},
   "outputs": [
    {
     "data": {
      "text/plain": [
       "array([[   0,    0, 1170,    0,    0,  101],\n",
       "       [   0,    0,  553,    0,    0,  718],\n",
       "       [   0,    0,  703,    0,    0,  568],\n",
       "       [   0,    0, 1051,    0,    0,  220],\n",
       "       [   0,    0,  522,    0,    0,  565],\n",
       "       [   0,    0,  188,    0,    0, 1083]])"
      ]
     },
     "execution_count": 16,
     "metadata": {},
     "output_type": "execute_result"
    }
   ],
   "source": [
    "confusion_matrix(expected, np.array(predictions))"
   ]
  },
  {
   "cell_type": "code",
   "execution_count": 17,
   "id": "44d7852d",
   "metadata": {},
   "outputs": [
    {
     "name": "stdout",
     "output_type": "stream",
     "text": [
      "              precision    recall  f1-score   support\n",
      "\n",
      "         ANG       0.00      0.00      0.00      1271\n",
      "         DIS       0.00      0.00      0.00      1271\n",
      "         FEA       0.17      0.55      0.26      1271\n",
      "         HAP       0.00      0.00      0.00      1271\n",
      "         NEU       0.00      0.00      0.00      1087\n",
      "         SAD       0.33      0.85      0.48      1271\n",
      "\n",
      "    accuracy                           0.24      7442\n",
      "   macro avg       0.08      0.23      0.12      7442\n",
      "weighted avg       0.09      0.24      0.13      7442\n",
      "\n"
     ]
    },
    {
     "name": "stderr",
     "output_type": "stream",
     "text": [
      "/opt/conda/lib/python3.9/site-packages/sklearn/metrics/_classification.py:1248: UndefinedMetricWarning: Precision and F-score are ill-defined and being set to 0.0 in labels with no predicted samples. Use `zero_division` parameter to control this behavior.\n",
      "  _warn_prf(average, modifier, msg_start, len(result))\n",
      "/opt/conda/lib/python3.9/site-packages/sklearn/metrics/_classification.py:1248: UndefinedMetricWarning: Precision and F-score are ill-defined and being set to 0.0 in labels with no predicted samples. Use `zero_division` parameter to control this behavior.\n",
      "  _warn_prf(average, modifier, msg_start, len(result))\n",
      "/opt/conda/lib/python3.9/site-packages/sklearn/metrics/_classification.py:1248: UndefinedMetricWarning: Precision and F-score are ill-defined and being set to 0.0 in labels with no predicted samples. Use `zero_division` parameter to control this behavior.\n",
      "  _warn_prf(average, modifier, msg_start, len(result))\n"
     ]
    }
   ],
   "source": [
    "from sklearn.metrics import classification_report\n",
    "\n",
    "print(classification_report(expected, np.array(predictions)))"
   ]
  },
  {
   "cell_type": "code",
   "execution_count": null,
   "id": "9c0abed2",
   "metadata": {},
   "outputs": [],
   "source": []
  }
 ],
 "metadata": {
  "kernelspec": {
   "display_name": "Python 3 (ipykernel)",
   "language": "python",
   "name": "python3"
  },
  "language_info": {
   "codemirror_mode": {
    "name": "ipython",
    "version": 3
   },
   "file_extension": ".py",
   "mimetype": "text/x-python",
   "name": "python",
   "nbconvert_exporter": "python",
   "pygments_lexer": "ipython3",
   "version": "3.9.5"
  }
 },
 "nbformat": 4,
 "nbformat_minor": 5
}
