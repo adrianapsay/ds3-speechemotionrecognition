{
 "cells": [
  {
   "cell_type": "code",
   "execution_count": 3,
   "id": "f446cd06",
   "metadata": {},
   "outputs": [
    {
     "name": "stdout",
     "output_type": "stream",
     "text": [
      "The autoreload extension is already loaded. To reload it, use:\n",
      "  %reload_ext autoreload\n"
     ]
    }
   ],
   "source": [
    "import os\n",
    "import torch\n",
    "from torch import nn\n",
    "from torch.utils.data import Dataset\n",
    "import pandas as pd\n",
    "import torchaudio\n",
    "import matplotlib.pyplot as plt\n",
    "from torch.utils.data import DataLoader\n",
    "from torchsummary import summary\n",
    "import numpy as np\n",
    "\n",
    "%load_ext autoreload\n",
    "%autoreload 2"
   ]
  },
  {
   "cell_type": "code",
   "execution_count": 4,
   "id": "68cbb167",
   "metadata": {},
   "outputs": [],
   "source": [
    "from scripts.dataset import EmotionDataset\n",
    "from scripts.cnnnet import CNNNetwork\n",
    "from scripts.data_loader import create_data_loader"
   ]
  },
  {
   "cell_type": "code",
   "execution_count": 5,
   "id": "21e898d5",
   "metadata": {},
   "outputs": [],
   "source": [
    "from sklearn.metrics import confusion_matrix\n",
    "from sklearn.metrics import classification_report"
   ]
  },
  {
   "cell_type": "code",
   "execution_count": 7,
   "id": "46ce5079",
   "metadata": {},
   "outputs": [],
   "source": [
    "RECORDING_DF_PATH = os.path.join('data', 'recording_paths.csv')\n",
    "RECORDING_TRAIN_PATH = os.path.join('data', 'recording_paths_train.csv')\n",
    "RECORDING_TEST_PATH = os.path.join('data', 'recording_paths_test.csv')\n",
    "\n",
    "FINAL_SR = 16000\n",
    "NUM_SAMPLES_LIMIT = 60000\n",
    "BATCH_SIZE = 128"
   ]
  },
  {
   "cell_type": "code",
   "execution_count": 8,
   "id": "df5fd2c2",
   "metadata": {},
   "outputs": [],
   "source": [
    "mel_spectrogram = torchaudio.transforms.MelSpectrogram(\n",
    "        sample_rate=FINAL_SR,\n",
    "        n_fft=1024,\n",
    "        hop_length=512,\n",
    "        n_mels=64\n",
    "    )\n",
    "\n",
    "if torch.cuda.is_available():\n",
    "    device = \"cuda\"\n",
    "else:\n",
    "    device = \"cpu\""
   ]
  },
  {
   "cell_type": "code",
   "execution_count": 9,
   "id": "02283a1e",
   "metadata": {},
   "outputs": [
    {
     "data": {
      "image/png": "[encoded data removed]",
      "text/plain": [
       "<Figure size 720x432 with 2 Axes>"
      ]
     },
     "metadata": {
      "needs_background": "light"
     },
     "output_type": "display_data"
    }
   ],
   "source": [
    "emd_train = EmotionDataset(RECORDING_TRAIN_PATH, FINAL_SR, NUM_SAMPLES_LIMIT, mel_spectrogram, device)\n",
    "emd_test = EmotionDataset(RECORDING_TEST_PATH, FINAL_SR, NUM_SAMPLES_LIMIT, mel_spectrogram, device)\n",
    "\n",
    "emd_train.plot_spectrogram(200, log=True)"
   ]
  },
  {
   "cell_type": "code",
   "execution_count": 13,
   "id": "29bbbdd3",
   "metadata": {},
   "outputs": [
    {
     "name": "stdout",
     "output_type": "stream",
     "text": [
      "----------------------------------------------------------------\n",
      "        Layer (type)               Output Shape         Param #\n",
      "================================================================\n",
      "            Conv2d-1          [-1, 16, 66, 120]             160\n",
      "              ReLU-2          [-1, 16, 66, 120]               0\n",
      "         MaxPool2d-3           [-1, 16, 33, 60]               0\n",
      "         Dropout2d-4           [-1, 16, 33, 60]               0\n",
      "            Conv2d-5           [-1, 32, 35, 62]           4,640\n",
      "              ReLU-6           [-1, 32, 35, 62]               0\n",
      "         MaxPool2d-7           [-1, 32, 17, 31]               0\n",
      "         Dropout2d-8           [-1, 32, 17, 31]               0\n",
      "            Conv2d-9           [-1, 64, 19, 33]          18,496\n",
      "             ReLU-10           [-1, 64, 19, 33]               0\n",
      "        MaxPool2d-11            [-1, 64, 9, 16]               0\n",
      "        Dropout2d-12            [-1, 64, 9, 16]               0\n",
      "           Conv2d-13          [-1, 128, 11, 18]          73,856\n",
      "             ReLU-14          [-1, 128, 11, 18]               0\n",
      "        MaxPool2d-15            [-1, 128, 5, 9]               0\n",
      "        Dropout2d-16            [-1, 128, 5, 9]               0\n",
      "           Conv2d-17           [-1, 256, 7, 11]         295,168\n",
      "             ReLU-18           [-1, 256, 7, 11]               0\n",
      "        MaxPool2d-19            [-1, 256, 3, 5]               0\n",
      "        Dropout2d-20            [-1, 256, 3, 5]               0\n",
      "           Conv2d-21            [-1, 512, 5, 7]       1,180,160\n",
      "             ReLU-22            [-1, 512, 5, 7]               0\n",
      "        MaxPool2d-23            [-1, 512, 2, 3]               0\n",
      "        Dropout2d-24            [-1, 512, 2, 3]               0\n",
      "           Conv2d-25           [-1, 1024, 4, 5]       4,719,616\n",
      "             ReLU-26           [-1, 1024, 4, 5]               0\n",
      "        MaxPool2d-27           [-1, 1024, 2, 2]               0\n",
      "        Dropout2d-28           [-1, 1024, 2, 2]               0\n",
      "          Flatten-29                 [-1, 4096]               0\n",
      "           Linear-30                    [-1, 6]          24,582\n",
      "          Softmax-31                    [-1, 6]               0\n",
      "================================================================\n",
      "Total params: 6,316,678\n",
      "Trainable params: 6,316,678\n",
      "Non-trainable params: 0\n",
      "----------------------------------------------------------------\n",
      "Input size (MB): 0.03\n",
      "Forward/backward pass size (MB): 6.05\n",
      "Params size (MB): 24.10\n",
      "Estimated Total Size (MB): 30.17\n",
      "----------------------------------------------------------------\n",
      "None\n",
      "\n",
      "Epoch 1 / 40 started\n",
      "Train Loss = 1.649970293045044\n",
      "Validation Loss = 1.6458452641963959\n",
      "Epoch 1 / 40 finished\n",
      "\n",
      "Epoch 2 / 40 started\n",
      "Train Loss = 1.6042722463607788\n",
      "Validation Loss = 1.6089153687159221\n",
      "Epoch 2 / 40 finished\n",
      "\n",
      "Epoch 3 / 40 started\n",
      "Train Loss = 1.609744668006897\n",
      "Validation Loss = 1.593492607275645\n",
      "Epoch 3 / 40 finished\n",
      "\n",
      "Epoch 4 / 40 started\n",
      "Train Loss = 1.557348608970642\n",
      "Validation Loss = 1.5853491127490997\n",
      "Epoch 4 / 40 finished\n",
      "\n",
      "Epoch 5 / 40 started\n",
      "Train Loss = 1.5488555431365967\n",
      "Validation Loss = 1.5778756241003673\n",
      "Epoch 5 / 40 finished\n",
      "\n",
      "Epoch 6 / 40 started\n",
      "Train Loss = 1.5507926940917969\n",
      "Validation Loss = 1.578661173582077\n",
      "Epoch 6 / 40 finished\n",
      "\n",
      "Epoch 7 / 40 started\n",
      "Train Loss = 1.5394604206085205\n",
      "Validation Loss = 1.5810939371585846\n",
      "Epoch 7 / 40 finished\n",
      "\n",
      "Epoch 8 / 40 started\n",
      "Train Loss = 1.5341137647628784\n",
      "Validation Loss = 1.5721284051736195\n",
      "Epoch 8 / 40 finished\n",
      "\n",
      "Epoch 9 / 40 started\n",
      "Train Loss = 1.5336955785751343\n",
      "Validation Loss = 1.585567871729533\n",
      "Epoch 9 / 40 finished\n",
      "\n",
      "Epoch 10 / 40 started\n",
      "Train Loss = 1.5614033937454224\n",
      "Validation Loss = 1.5849980115890503\n",
      "Epoch 10 / 40 finished\n",
      "\n",
      "Epoch 11 / 40 started\n",
      "Train Loss = 1.5766164064407349\n",
      "Validation Loss = 1.6168546378612518\n",
      "Epoch 11 / 40 finished\n",
      "\n",
      "Epoch 12 / 40 started\n",
      "Train Loss = 1.5154064893722534\n",
      "Validation Loss = 1.5509288311004639\n",
      "Epoch 12 / 40 finished\n",
      "\n",
      "Epoch 13 / 40 started\n",
      "Train Loss = 1.5137810707092285\n",
      "Validation Loss = 1.5635948479175568\n",
      "Epoch 13 / 40 finished\n",
      "\n",
      "Epoch 14 / 40 started\n",
      "Train Loss = 1.4623225927352905\n",
      "Validation Loss = 1.5335148374239604\n",
      "Epoch 14 / 40 finished\n",
      "\n",
      "Epoch 15 / 40 started\n",
      "Train Loss = 1.4428924322128296\n",
      "Validation Loss = 1.5302371283372243\n",
      "Epoch 15 / 40 finished\n",
      "\n",
      "Epoch 16 / 40 started\n",
      "Train Loss = 1.4398857355117798\n",
      "Validation Loss = 1.5270406703154247\n",
      "Epoch 16 / 40 finished\n",
      "\n",
      "Epoch 17 / 40 started\n",
      "Train Loss = 1.4457343816757202\n",
      "Validation Loss = 1.5279041131337483\n",
      "Epoch 17 / 40 finished\n",
      "\n",
      "Epoch 18 / 40 started\n",
      "Train Loss = 1.4476308822631836\n",
      "Validation Loss = 1.5267790059248607\n",
      "Epoch 18 / 40 finished\n",
      "\n",
      "Epoch 19 / 40 started\n",
      "Train Loss = 1.4084571599960327\n",
      "Validation Loss = 1.5327193637688954\n",
      "Epoch 19 / 40 finished\n",
      "\n",
      "Epoch 20 / 40 started\n",
      "Train Loss = 1.3987751007080078\n",
      "Validation Loss = 1.5164977510770161\n",
      "Epoch 20 / 40 finished\n",
      "\n",
      "Epoch 21 / 40 started\n",
      "Train Loss = 1.3990193605422974\n",
      "Validation Loss = 1.5445319712162018\n",
      "Epoch 21 / 40 finished\n",
      "\n",
      "Epoch 22 / 40 started\n",
      "Train Loss = 1.3518275022506714\n",
      "Validation Loss = 1.542200783888499\n",
      "Epoch 22 / 40 finished\n",
      "\n",
      "Epoch 23 / 40 started\n",
      "Train Loss = 1.35550856590271\n",
      "Validation Loss = 1.5263795653978984\n",
      "Epoch 23 / 40 finished\n",
      "\n",
      "Epoch 24 / 40 started\n",
      "Train Loss = 1.3504467010498047\n",
      "Validation Loss = 1.49977441628774\n",
      "Epoch 24 / 40 finished\n",
      "\n",
      "Epoch 25 / 40 started\n",
      "Train Loss = 1.3241339921951294\n",
      "Validation Loss = 1.4866673648357391\n",
      "Epoch 25 / 40 finished\n",
      "\n",
      "Epoch 26 / 40 started\n",
      "Train Loss = 1.3197245597839355\n",
      "Validation Loss = 1.4850276112556458\n",
      "Epoch 26 / 40 finished\n",
      "\n",
      "Epoch 27 / 40 started\n",
      "Train Loss = 1.3031036853790283\n",
      "Validation Loss = 1.479159007469813\n",
      "Epoch 27 / 40 finished\n",
      "\n",
      "Epoch 28 / 40 started\n",
      "Train Loss = 1.3179129362106323\n",
      "Validation Loss = 1.4785193006197612\n",
      "Epoch 28 / 40 finished\n",
      "\n",
      "Epoch 29 / 40 started\n",
      "Train Loss = 1.3010056018829346\n",
      "Validation Loss = 1.4829565286636353\n",
      "Epoch 29 / 40 finished\n",
      "\n",
      "Epoch 30 / 40 started\n",
      "Train Loss = 1.3446518182754517\n",
      "Validation Loss = 1.4720604121685028\n",
      "Epoch 30 / 40 finished\n",
      "\n",
      "Epoch 31 / 40 started\n",
      "Train Loss = 1.410183072090149\n",
      "Validation Loss = 1.4931073784828186\n",
      "Epoch 31 / 40 finished\n",
      "\n",
      "Epoch 32 / 40 started\n",
      "Train Loss = 1.2682487964630127\n",
      "Validation Loss = 1.4769870042800903\n",
      "Epoch 32 / 40 finished\n",
      "\n",
      "Epoch 33 / 40 started\n",
      "Train Loss = 1.3197567462921143\n",
      "Validation Loss = 1.4746118783950806\n",
      "Epoch 33 / 40 finished\n",
      "\n",
      "Epoch 34 / 40 started\n",
      "Train Loss = 1.2884876728057861\n",
      "Validation Loss = 1.4580657581488292\n",
      "Epoch 34 / 40 finished\n",
      "\n",
      "Epoch 35 / 40 started\n",
      "Train Loss = 1.2384490966796875\n",
      "Validation Loss = 1.4523615737756093\n",
      "Epoch 35 / 40 finished\n",
      "\n",
      "Epoch 36 / 40 started\n",
      "Train Loss = 1.2256498336791992\n",
      "Validation Loss = 1.4529550969600677\n",
      "Epoch 36 / 40 finished\n",
      "\n",
      "Epoch 37 / 40 started\n",
      "Train Loss = 1.227294683456421\n",
      "Validation Loss = 1.452610005935033\n",
      "Epoch 37 / 40 finished\n",
      "\n",
      "Epoch 38 / 40 started\n",
      "Train Loss = 1.2135472297668457\n",
      "Validation Loss = 1.4480217198530834\n",
      "Epoch 38 / 40 finished\n",
      "\n",
      "Epoch 39 / 40 started\n",
      "Train Loss = 1.2733160257339478\n",
      "Validation Loss = 1.4666998783747356\n",
      "Epoch 39 / 40 finished\n",
      "\n",
      "Epoch 40 / 40 started\n",
      "Train Loss = 1.232189655303955\n",
      "Validation Loss = 1.4708843330542247\n",
      "Epoch 40 / 40 finished\n",
      "\n",
      "Trained cnn saved at models/cnn.pth\n"
     ]
    }
   ],
   "source": [
    "train_dataloader = create_data_loader(emd_train, BATCH_SIZE)\n",
    "valid_dataloader = create_data_loader(emd_test, BATCH_SIZE)\n",
    "loss_fn = nn.CrossEntropyLoss()\n",
    "\n",
    "cnn = CNNNetwork(num_layers=7,\n",
    "                learning_rate=0.0005,\n",
    "                loss_fn = loss_fn,\n",
    "                device=device,\n",
    "                train_data_loader = train_dataloader,\n",
    "                validate_data_loader = valid_dataloader\n",
    "                ).to(device)\n",
    "\n",
    "print(summary(cnn, (1, 64, 118)))\n",
    "print()\n",
    "\n",
    "cnn.train(num_epochs=40)\n",
    "\n",
    "torch.save(cnn.state_dict(), \"models/cnn.pth\")\n",
    "print(\"Trained cnn saved at models/cnn.pth\")"
   ]
  },
  {
   "cell_type": "code",
   "execution_count": 14,
   "id": "acff8f82",
   "metadata": {},
   "outputs": [
    {
     "data": {
      "text/plain": [
       "[<matplotlib.lines.Line2D at 0x7fdcac26ce80>]"
      ]
     },
     "execution_count": 14,
     "metadata": {},
     "output_type": "execute_result"
    },
    {
     "data": {
      "image/png": "[encoded data removed]",
      "text/plain": [
       "<Figure size 432x288 with 1 Axes>"
      ]
     },
     "metadata": {
      "needs_background": "light"
     },
     "output_type": "display_data"
    }
   ],
   "source": [
    "epoch_losses = cnn.get_train_epoch_losses()\n",
    "plt.plot(list(range(1, len(epoch_losses) + 1)), epoch_losses)"
   ]
  },
  {
   "cell_type": "code",
   "execution_count": 15,
   "id": "c8468ef6",
   "metadata": {},
   "outputs": [
    {
     "data": {
      "text/plain": [
       "[<matplotlib.lines.Line2D at 0x7fdcac1dda60>]"
      ]
     },
     "execution_count": 15,
     "metadata": {},
     "output_type": "execute_result"
    },
    {
     "data": {
      "image/png": "[encoded data removed]",
      "text/plain": [
       "<Figure size 432x288 with 1 Axes>"
      ]
     },
     "metadata": {
      "needs_background": "light"
     },
     "output_type": "display_data"
    }
   ],
   "source": [
    "valid_losses = cnn.get_valid_epoch_losses()\n",
    "plt.plot(list(range(1, len(valid_losses) + 1)), valid_losses)"
   ]
  },
  {
   "cell_type": "code",
   "execution_count": 16,
   "id": "2d06e4b2",
   "metadata": {},
   "outputs": [
    {
     "name": "stdout",
     "output_type": "stream",
     "text": [
      "Predicted: 'SAD', expected: 'SAD'\n"
     ]
    }
   ],
   "source": [
    "class_mapping = ['ANG', 'DIS', 'FEA', 'HAP', 'NEU', 'SAD']\n",
    "\n",
    "# state_dict = torch.load(\"models/cnn.pth\")\n",
    "# cnn.load_state_dict(state_dict)\n",
    "\n",
    "idx = 1\n",
    "\n",
    "inp, target = emd_train[idx][0], emd_train[idx][1]\n",
    "inp.unsqueeze_(0)\n",
    "\n",
    "predicted, expected = cnn.predict(inp, target, class_mapping)\n",
    "print(f\"Predicted: '{predicted}', expected: '{expected}'\")"
   ]
  },
  {
   "cell_type": "code",
   "execution_count": 17,
   "id": "d645a60a",
   "metadata": {},
   "outputs": [
    {
     "name": "stdout",
     "output_type": "stream",
     "text": [
      "0 / 5953 Done\n",
      "1000 / 5953 Done\n",
      "2000 / 5953 Done\n",
      "3000 / 5953 Done\n",
      "4000 / 5953 Done\n",
      "5000 / 5953 Done\n"
     ]
    }
   ],
   "source": [
    "train_df = pd.read_csv('data/recording_paths_train.csv')\n",
    "expected = train_df.category\n",
    "\n",
    "predictions = []\n",
    "for i in range(len(emd_train)):\n",
    "    inp, target = emd_train[i][0], emd_train[i][1]\n",
    "    inp.unsqueeze_(0)\n",
    "    predictions.append(cnn.predict(inp, target, class_mapping)[0])\n",
    "    \n",
    "    if i % 1000 == 0:\n",
    "        print(f'{i} / {len(emd_train)} Done')"
   ]
  },
  {
   "cell_type": "code",
   "execution_count": 18,
   "id": "cabbf909",
   "metadata": {},
   "outputs": [
    {
     "data": {
      "text/plain": [
       "array([[798,  64,  19,  89,  37,  10],\n",
       "       [ 55, 655,  21,  81,  52, 153],\n",
       "       [ 23,  55, 366, 199,  64, 310],\n",
       "       [ 39,  47,  50, 775,  67,  38],\n",
       "       [  3,  28,   6,  14, 736,  82],\n",
       "       [  4,  40,  27,  19,  84, 843]])"
      ]
     },
     "execution_count": 18,
     "metadata": {},
     "output_type": "execute_result"
    }
   ],
   "source": [
    "confusion_matrix(expected, np.array(predictions))"
   ]
  },
  {
   "cell_type": "code",
   "execution_count": 19,
   "id": "02bb8253",
   "metadata": {},
   "outputs": [
    {
     "name": "stdout",
     "output_type": "stream",
     "text": [
      "              precision    recall  f1-score   support\n",
      "\n",
      "         ANG       0.87      0.78      0.82      1017\n",
      "         DIS       0.74      0.64      0.69      1017\n",
      "         FEA       0.75      0.36      0.49      1017\n",
      "         HAP       0.66      0.76      0.71      1016\n",
      "         NEU       0.71      0.85      0.77       869\n",
      "         SAD       0.59      0.83      0.69      1017\n",
      "\n",
      "    accuracy                           0.70      5953\n",
      "   macro avg       0.72      0.70      0.69      5953\n",
      "weighted avg       0.72      0.70      0.69      5953\n",
      "\n"
     ]
    }
   ],
   "source": [
    "from sklearn.metrics import classification_report\n",
    "\n",
    "print(classification_report(expected, np.array(predictions)))"
   ]
  },
  {
   "cell_type": "code",
   "execution_count": 20,
   "id": "c6336bd4",
   "metadata": {},
   "outputs": [
    {
     "name": "stdout",
     "output_type": "stream",
     "text": [
      "0 / 1489 Done\n",
      "100 / 1489 Done\n",
      "200 / 1489 Done\n",
      "300 / 1489 Done\n",
      "400 / 1489 Done\n",
      "500 / 1489 Done\n",
      "600 / 1489 Done\n",
      "700 / 1489 Done\n",
      "800 / 1489 Done\n",
      "900 / 1489 Done\n",
      "1000 / 1489 Done\n",
      "1100 / 1489 Done\n",
      "1200 / 1489 Done\n",
      "1300 / 1489 Done\n",
      "1400 / 1489 Done\n"
     ]
    }
   ],
   "source": [
    "test_df = pd.read_csv('data/recording_paths_test.csv')\n",
    "expected = test_df.category\n",
    "\n",
    "predictions = []\n",
    "for i in range(len(emd_test)):\n",
    "    inp, target = emd_test[i][0], emd_test[i][1]\n",
    "    inp.unsqueeze_(0)\n",
    "    predictions.append(cnn.predict(inp, target, class_mapping)[0])\n",
    "    \n",
    "    if i % 100 == 0:\n",
    "        print(f'{i} / {len(emd_test)} Done')"
   ]
  },
  {
   "cell_type": "code",
   "execution_count": 21,
   "id": "c7279535",
   "metadata": {},
   "outputs": [
    {
     "data": {
      "text/plain": [
       "array([[157,  27,   6,  43,  18,   3],\n",
       "       [ 14, 123,   7,  26,  25,  59],\n",
       "       [  6,  20,  71,  70,  16,  71],\n",
       "       [ 19,  15,  23, 161,  31,   6],\n",
       "       [  2,  21,   5,  12, 147,  31],\n",
       "       [  2,  21,  13,   8,  26, 184]])"
      ]
     },
     "execution_count": 21,
     "metadata": {},
     "output_type": "execute_result"
    }
   ],
   "source": [
    "confusion_matrix(expected, np.array(predictions))"
   ]
  },
  {
   "cell_type": "code",
   "execution_count": 22,
   "id": "879ad43f",
   "metadata": {},
   "outputs": [
    {
     "name": "stdout",
     "output_type": "stream",
     "text": [
      "              precision    recall  f1-score   support\n",
      "\n",
      "         ANG       0.79      0.62      0.69       254\n",
      "         DIS       0.54      0.48      0.51       254\n",
      "         FEA       0.57      0.28      0.37       254\n",
      "         HAP       0.50      0.63      0.56       255\n",
      "         NEU       0.56      0.67      0.61       218\n",
      "         SAD       0.52      0.72      0.61       254\n",
      "\n",
      "    accuracy                           0.57      1489\n",
      "   macro avg       0.58      0.57      0.56      1489\n",
      "weighted avg       0.58      0.57      0.56      1489\n",
      "\n"
     ]
    }
   ],
   "source": [
    "print(classification_report(expected, np.array(predictions)))"
   ]
  },
  {
   "cell_type": "code",
   "execution_count": null,
   "id": "3b48ae5b",
   "metadata": {},
   "outputs": [],
   "source": [
    "class_mapping = ['ANG', 'DIS', 'FEA', 'HAP', 'NEU', 'SAD']"
   ]
  }
 ],
 "metadata": {
  "kernelspec": {
   "display_name": "Python 3 (ipykernel)",
   "language": "python",
   "name": "python3"
  },
  "language_info": {
   "codemirror_mode": {
    "name": "ipython",
    "version": 3
   },
   "file_extension": ".py",
   "mimetype": "text/x-python",
   "name": "python",
   "nbconvert_exporter": "python",
   "pygments_lexer": "ipython3",
   "version": "3.9.5"
  }
 },
 "nbformat": 4,
 "nbformat_minor": 5
}
